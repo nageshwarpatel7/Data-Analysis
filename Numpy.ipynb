{
 "cells": [
  {
   "cell_type": "code",
   "execution_count": 1,
   "metadata": {},
   "outputs": [
    {
     "name": "stderr",
     "output_type": "stream",
     "text": [
      "ERROR: Invalid requirement: '#command'\n"
     ]
    }
   ],
   "source": [
    "!pip install numpy #command for installing numpy in jupyter notebook"
   ]
  },
  {
   "cell_type": "code",
   "execution_count": 2,
   "metadata": {},
   "outputs": [
    {
     "name": "stdout",
     "output_type": "stream",
     "text": [
      "Requirement already satisfied: pip in d:\\anaconda\\envs\\venv\\lib\\site-packages (24.0)\n",
      "Collecting pip\n",
      "  Using cached pip-24.2-py3-none-any.whl.metadata (3.6 kB)\n",
      "Using cached pip-24.2-py3-none-any.whl (1.8 MB)\n"
     ]
    },
    {
     "name": "stderr",
     "output_type": "stream",
     "text": [
      "ERROR: To modify pip, please run the following command:\n",
      "D:\\anaconda\\envs\\venv\\python.exe -m pip install --upgrade pip\n"
     ]
    }
   ],
   "source": [
    "!pip install --upgrade pip"
   ]
  },
  {
   "cell_type": "code",
   "execution_count": 5,
   "metadata": {},
   "outputs": [
    {
     "name": "stdout",
     "output_type": "stream",
     "text": [
      "[1 2 3 4 5]\n",
      "<class 'numpy.ndarray'>\n",
      "(5,)\n"
     ]
    }
   ],
   "source": [
    "import numpy as np\n",
    "\n",
    "#create array using numpy\n",
    "#create a 1D array\n",
    "\n",
    "arr1 = np.array([1,2,3,4,5])\n",
    "print(arr1)\n",
    "print(type(arr1))\n",
    "print(arr1.shape) # shape tells the dimension of given array"
   ]
  },
  {
   "cell_type": "code",
   "execution_count": 6,
   "metadata": {},
   "outputs": [
    {
     "data": {
      "text/plain": [
       "array([[1, 2, 3, 4, 5]])"
      ]
     },
     "execution_count": 6,
     "metadata": {},
     "output_type": "execute_result"
    }
   ],
   "source": [
    "arr2= np.array([1,2,3,4,5])\n",
    "arr2.reshape(1,5) #reshape is used for changing the dimension of the given array"
   ]
  },
  {
   "cell_type": "code",
   "execution_count": 7,
   "metadata": {},
   "outputs": [
    {
     "name": "stdout",
     "output_type": "stream",
     "text": [
      "[[1 2 3 4 5]\n",
      " [2 3 4 5 6]]\n",
      "(2, 5)\n"
     ]
    }
   ],
   "source": [
    "arr3= np.array([[1,2,3,4,5],[2,3,4,5,6]]) #creating a 2D array\n",
    "print(arr3)\n",
    "print(arr3.shape) #tell the dimension of given array"
   ]
  },
  {
   "cell_type": "code",
   "execution_count": 8,
   "metadata": {},
   "outputs": [
    {
     "data": {
      "text/plain": [
       "array([[0, 1],\n",
       "       [2, 3],\n",
       "       [4, 5],\n",
       "       [6, 7],\n",
       "       [8, 9]])"
      ]
     },
     "execution_count": 8,
     "metadata": {},
     "output_type": "execute_result"
    }
   ],
   "source": [
    "# numpy.arange(x,y) :- arange function is used to create an array within the range from x,y and y is not included\n",
    "np.arange(0,10).reshape(5,2) "
   ]
  },
  {
   "cell_type": "code",
   "execution_count": 9,
   "metadata": {},
   "outputs": [
    {
     "data": {
      "text/plain": [
       "array([[1., 1., 1., 1.],\n",
       "       [1., 1., 1., 1.],\n",
       "       [1., 1., 1., 1.]])"
      ]
     },
     "execution_count": 9,
     "metadata": {},
     "output_type": "execute_result"
    }
   ],
   "source": [
    "# numpy.ones(x,y) :- it creates an array with x rows and y columns and all elements are going to be one\n",
    "np.ones((3,4)) "
   ]
  },
  {
   "cell_type": "code",
   "execution_count": 10,
   "metadata": {},
   "outputs": [
    {
     "data": {
      "text/plain": [
       "array([[1., 0., 0.],\n",
       "       [0., 1., 0.],\n",
       "       [0., 0., 1.]])"
      ]
     },
     "execution_count": 10,
     "metadata": {},
     "output_type": "execute_result"
    }
   ],
   "source": [
    "#identity matrix\n",
    "np.eye(3) #this will create an identity matrix with 3D array"
   ]
  },
  {
   "cell_type": "code",
   "execution_count": 11,
   "metadata": {},
   "outputs": [
    {
     "name": "stdout",
     "output_type": "stream",
     "text": [
      "Array:\n",
      " [[1 2 3]\n",
      " [4 5 6]]\n",
      "Shape: (2, 3)\n",
      "Number of dimensions: 2\n",
      "Size (number of elements): 6\n",
      "Data type: int64\n",
      "Item size (in bytes): 8\n"
     ]
    }
   ],
   "source": [
    "arr = np.array([[1,2,3],[4,5,6]])\n",
    "\n",
    "print(\"Array:\\n\", arr)\n",
    "print(\"Shape:\", arr.shape)\n",
    "print(\"Number of dimensions:\",arr.ndim)\n",
    "print(\"Size (number of elements):\", arr.size)\n",
    "print(\"Data type:\", arr.dtype)\n",
    "print(\"Item size (in bytes):\", arr.itemsize)"
   ]
  },
  {
   "cell_type": "code",
   "execution_count": 12,
   "metadata": {},
   "outputs": [
    {
     "name": "stdout",
     "output_type": "stream",
     "text": [
      "Addition: [11 22 33 44 55]\n",
      "Subtraction: [ -9 -18 -27 -36 -45]\n",
      "Multiplication: [ 10  40  90 160 250]\n",
      "Division: [0.1 0.1 0.1 0.1 0.1]\n"
     ]
    }
   ],
   "source": [
    "### Numpy vectorized operations\n",
    "\n",
    "arr1 = np.array([1,2,3,4,5])\n",
    "arr2 = np.array([10,20,30,40,50])\n",
    "\n",
    "# Element wise addition\n",
    "print(\"Addition:\",arr1+arr2)\n",
    "\n",
    "#Element wise subtraction\n",
    "print(\"Subtraction:\",arr1-arr2)\n",
    "\n",
    "# Element wise multiplication\n",
    "print(\"Multiplication:\",arr1*arr2)\n",
    "\n",
    "# Element wise division\n",
    "print(\"Division:\",arr1/arr2)"
   ]
  },
  {
   "cell_type": "code",
   "execution_count": 13,
   "metadata": {},
   "outputs": [
    {
     "name": "stdout",
     "output_type": "stream",
     "text": [
      "[1.41421356 1.73205081 2.         2.23606798 2.44948974]\n",
      "[  7.3890561   20.08553692  54.59815003 148.4131591  403.42879349]\n",
      "[ 0.90929743  0.14112001 -0.7568025  -0.95892427 -0.2794155 ]\n",
      "[0.69314718 1.09861229 1.38629436 1.60943791 1.79175947]\n"
     ]
    }
   ],
   "source": [
    "## Universal Function \n",
    "\n",
    "arr = np.array([2,3,4,5,6])\n",
    "#Square root \n",
    "print(np.sqrt(arr))\n",
    "\n",
    "#Exponential\n",
    "print(np.exp(arr))\n",
    "\n",
    "#Sine\n",
    "print(np.sin(arr))\n",
    "\n",
    "#Natural log\n",
    "print(np.log(arr))"
   ]
  },
  {
   "cell_type": "code",
   "execution_count": 14,
   "metadata": {},
   "outputs": [
    {
     "name": "stdout",
     "output_type": "stream",
     "text": [
      "Array: \n",
      " [[ 1  2  3  4]\n",
      " [ 5  6  7  8]\n",
      " [ 9 10 11 12]]\n"
     ]
    }
   ],
   "source": [
    "# array slicing and indexing\n",
    "\n",
    "arr = np.array([[1,2,3,4],[5,6,7,8],[9,10,11,12]])\n",
    "print(\"Array: \\n\",arr)"
   ]
  },
  {
   "cell_type": "code",
   "execution_count": 15,
   "metadata": {},
   "outputs": [
    {
     "name": "stdout",
     "output_type": "stream",
     "text": [
      "[[ 6  7]\n",
      " [10 11]]\n"
     ]
    }
   ],
   "source": [
    "print(arr[1:,1:3])"
   ]
  },
  {
   "cell_type": "code",
   "execution_count": 16,
   "metadata": {},
   "outputs": [
    {
     "name": "stdout",
     "output_type": "stream",
     "text": [
      "1\n",
      "[[3 4]\n",
      " [7 8]]\n"
     ]
    }
   ],
   "source": [
    "#accessing any specific element in array\n",
    "print(arr[0][0])\n",
    "print(arr[0:2,2:])"
   ]
  },
  {
   "cell_type": "code",
   "execution_count": 17,
   "metadata": {},
   "outputs": [
    {
     "name": "stdout",
     "output_type": "stream",
     "text": [
      "[[ 7  8]\n",
      " [11 12]]\n"
     ]
    }
   ],
   "source": [
    "print(arr[1:,2:])"
   ]
  },
  {
   "cell_type": "code",
   "execution_count": 18,
   "metadata": {},
   "outputs": [
    {
     "name": "stdout",
     "output_type": "stream",
     "text": [
      "[[100   2   3   4]\n",
      " [  5   6   7   8]\n",
      " [  9  10  11  12]]\n"
     ]
    }
   ],
   "source": [
    "#Modifing element in an array\n",
    "arr[0][0] = 100\n",
    "print(arr)"
   ]
  },
  {
   "cell_type": "code",
   "execution_count": 19,
   "metadata": {},
   "outputs": [
    {
     "name": "stdout",
     "output_type": "stream",
     "text": [
      "[[100   2   3   4]\n",
      " [100 100 100 100]\n",
      " [100 100 100 100]]\n"
     ]
    }
   ],
   "source": [
    "arr[1:]=100\n",
    "print(arr)"
   ]
  },
  {
   "cell_type": "code",
   "execution_count": 20,
   "metadata": {},
   "outputs": [
    {
     "name": "stdout",
     "output_type": "stream",
     "text": [
      "Normalized data: [-1.41421356 -0.70710678  0.          0.70710678  1.41421356]\n"
     ]
    }
   ],
   "source": [
    "## Statistical concept -- Normalization\n",
    "## to have a mean of 0 and standard deviation of 1\n",
    "data = np.array([1,2,3,4,5])\n",
    "\n",
    "# Calculate the mean and standard deviation\n",
    "mean = np.mean(data)\n",
    "std_dev = np.std(data)\n",
    "\n",
    "# Normalize the data\n",
    "normalized_data =(data - mean)/ std_dev\n",
    "print(\"Normalized data:\", normalized_data)"
   ]
  },
  {
   "cell_type": "code",
   "execution_count": 21,
   "metadata": {},
   "outputs": [
    {
     "name": "stdout",
     "output_type": "stream",
     "text": [
      "Mean: 5.5\n",
      "Median: 5.5\n",
      "Standard Deviation: 2.8722813232690143\n",
      "Variance: 8.25\n"
     ]
    }
   ],
   "source": [
    "data = np.array([1,2,3,4,5,6,7,8,9,10])\n",
    "\n",
    "#Mean\n",
    "mean = np.mean(data)\n",
    "print(\"Mean:\",mean)\n",
    "\n",
    "#Median\n",
    "median = np.median(data)\n",
    "print(\"Median:\",median)\n",
    "\n",
    "#Standard deviation \n",
    "std_deviation = np.std(data)\n",
    "print(\"Standard Deviation:\", std_deviation)\n",
    "\n",
    "#Variance\n",
    "variance = np.var(data)\n",
    "print(\"Variance:\",variance)"
   ]
  },
  {
   "cell_type": "code",
   "execution_count": 22,
   "metadata": {},
   "outputs": [
    {
     "name": "stdout",
     "output_type": "stream",
     "text": [
      "[False False False False False  True  True  True  True  True]\n",
      "[ 6  7  8  9 10]\n"
     ]
    }
   ],
   "source": [
    "# Logical operation \n",
    "data = np.array([1,2,3,4,5,6,7,8,9,10])\n",
    "print(data>5) #print true where element value is greater than 5\n",
    "print(data[data >5]) # returns the index of element where the element value is greater than 5"
   ]
  },
  {
   "cell_type": "code",
   "execution_count": null,
   "metadata": {},
   "outputs": [],
   "source": []
  }
 ],
 "metadata": {
  "kernelspec": {
   "display_name": "Python 3",
   "language": "python",
   "name": "python3"
  },
  "language_info": {
   "codemirror_mode": {
    "name": "ipython",
    "version": 3
   },
   "file_extension": ".py",
   "mimetype": "text/x-python",
   "name": "python",
   "nbconvert_exporter": "python",
   "pygments_lexer": "ipython3",
   "version": "3.12.0"
  }
 },
 "nbformat": 4,
 "nbformat_minor": 2
}
