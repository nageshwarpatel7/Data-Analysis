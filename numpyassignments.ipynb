{
 "cells": [
  {
   "cell_type": "markdown",
   "id": "bcc96cf3",
   "metadata": {},
   "source": [
    "# Module: NumPy Assignments\n",
    "## Lesson: NumPy\n",
    "### Assignment 1: Array Creation and Manipulation\n",
    "\n",
    "1. Create a NumPy array of shape (5, 5) filled with random integers between 1 and 20. Replace all the elements in the third column with 1.\n"
   ]
  },
  {
   "cell_type": "code",
   "execution_count": 4,
   "id": "973b2e9c",
   "metadata": {},
   "outputs": [
    {
     "name": "stdout",
     "output_type": "stream",
     "text": [
      "Originally Array: \n",
      "[[15 11  6 13 10]\n",
      " [ 3  5  9 18  5]\n",
      " [19  3  7  6  6]\n",
      " [ 1 18 13  9  6]\n",
      " [ 1 19  8 11 20]]\n",
      "\n",
      "[[15 11  1 13 10]\n",
      " [ 3  5  1 18  5]\n",
      " [19  3  1  6  6]\n",
      " [ 1 18  1  9  6]\n",
      " [ 1 19  1 11 20]]\n"
     ]
    }
   ],
   "source": [
    "import numpy as np\n",
    "\n",
    "# Create a NumPy array of shape (5, 5) filled with random integers\n",
    "array = np.random.randint(1,21, size=(5,5))\n",
    "print(\"Originally Array: \")\n",
    "print(array)\n",
    "\n",
    "# Replace all the elements in the third column with 1\n",
    "array[: , 2] = 1\n",
    "print(\"Modified Array\")\n",
    "print(array)\n",
    "\n"
   ]
  },
  {
   "cell_type": "markdown",
   "id": "44e3d57a",
   "metadata": {},
   "source": [
    "2. Create a NumPy array of shape (4, 4) with values from 1 to 16. Replace the diagonal elements with 0."
   ]
  },
  {
   "cell_type": "code",
   "execution_count": 5,
   "id": "285c0853",
   "metadata": {},
   "outputs": [
    {
     "name": "stdout",
     "output_type": "stream",
     "text": [
      "Originally Array:\n",
      "[[ 1  2  3  4]\n",
      " [ 5  6  7  8]\n",
      " [ 9 10 11 12]\n",
      " [13 14 15 16]]\n",
      "\n",
      "Modified Array:\n",
      "[[ 0  2  3  4]\n",
      " [ 5  0  7  8]\n",
      " [ 9 10  0 12]\n",
      " [13 14 15  0]]\n"
     ]
    }
   ],
   "source": [
    "# Create a NumPy array of shape (4, 4) with values from 1 to 16. \n",
    "array = np.arange(1,17).reshape(4,4)\n",
    "print(\"Originally Array:\")\n",
    "print(array)\n",
    "\n",
    "# Replace the diagonal element with 0\n",
    "np.fill_diagonal(array,0)\n",
    "print(\"\\nModified Array:\")\n",
    "print(array)"
   ]
  },
  {
   "cell_type": "markdown",
   "id": "3048c36a",
   "metadata": {},
   "source": [
    "### Assignment 2: Array Indexing and Slicing\n",
    "\n",
    "1. Create a NumPy array of shape (6, 6) with values from 1 to 36. Extract the sub-array consisting of the 3rd to 5th rows and 2nd to 4th columns."
   ]
  },
  {
   "cell_type": "code",
   "execution_count": 8,
   "id": "c0fffc0b",
   "metadata": {},
   "outputs": [
    {
     "name": "stdout",
     "output_type": "stream",
     "text": [
      "Original array:\n",
      "[[ 1  2  3  4  5  6]\n",
      " [ 7  8  9 10 11 12]\n",
      " [13 14 15 16 17 18]\n",
      " [19 20 21 22 23 24]\n",
      " [25 26 27 28 29 30]\n",
      " [31 32 33 34 35 36]]\n",
      "\n",
      "[[14 15 16]\n",
      " [20 21 22]\n",
      " [26 27 28]]\n"
     ]
    }
   ],
   "source": [
    "# Create a Numpy array of shape(6,6) with values from 1 to 36\n",
    "array = np.arange(1,37).reshape(6,6)\n",
    "print(\"Original array:\")\n",
    "print(array)\n",
    " \n",
    "# Extract the sun-array consisting of the 3rd to 5th rows and 2nd to 4th columns\n",
    "print()\n",
    "print(array[2:5,1:4])"
   ]
  },
  {
   "cell_type": "markdown",
   "id": "6dcab648",
   "metadata": {},
   "source": [
    "2. Create a NumPy array of shape (5, 5) with random integers. Extract the elements on the border."
   ]
  },
  {
   "cell_type": "code",
   "execution_count": 9,
   "id": "fc8c18a0",
   "metadata": {},
   "outputs": [
    {
     "name": "stdout",
     "output_type": "stream",
     "text": [
      "Original array:\n",
      "[[ 6 14  3 19  7]\n",
      " [22  3 19 23 24]\n",
      " [ 7  5  4  7  5]\n",
      " [12 21 19 22 15]\n",
      " [11 16 16  9 11]]\n",
      "\n",
      "Border Elements: \n",
      "[ 6 14  3 19  7 11 16 16  9 11 22  7 12 24  5 15]\n"
     ]
    }
   ],
   "source": [
    "# Create a numpy array of shape(5,5) with random integers\n",
    "array = np.random.randint(1,25 , size=(5,5))\n",
    "print(\"Original array:\")\n",
    "print(array)\n",
    "print()\n",
    "\n",
    "# Extract the element on the border\n",
    "border_elements = np.concatenate((array[0,:], array[-1,:], array[1:-1 ,0], array[1:-1,-1]))\n",
    "print(\"Border Elements: \")\n",
    "print(border_elements)"
   ]
  },
  {
   "cell_type": "markdown",
   "id": "1799c25f",
   "metadata": {},
   "source": [
    "### Assignment 3: Array Operations\n",
    "\n",
    "1. Create two NumPy arrays of shape (3, 4) filled with random integers. Perform element-wise addition, subtraction, multiplication, and division.\n"
   ]
  },
  {
   "cell_type": "code",
   "execution_count": 11,
   "id": "ed0bd552",
   "metadata": {},
   "outputs": [
    {
     "name": "stdout",
     "output_type": "stream",
     "text": [
      "Array1 :\n",
      "[[ 8  6  2  7]\n",
      " [ 3  9  4  1]\n",
      " [ 8  8 11  3]]\n",
      "Array2 :\n",
      "[[ 3  7  8  6]\n",
      " [ 1  6  1  1]\n",
      " [10  6  6  1]]\n",
      "Element wise addition :\n",
      "[[11 13 10 13]\n",
      " [ 4 15  5  2]\n",
      " [18 14 17  4]]\n",
      "Element wise subtraction:\n",
      "[[ 5 -1 -6  1]\n",
      " [ 2  3  3  0]\n",
      " [-2  2  5  2]]\n",
      "Element wise multiplication: \n",
      "[[24 42 16 42]\n",
      " [ 3 54  4  1]\n",
      " [80 48 66  3]]\n",
      "Element wise division:\n",
      "[[2.66666667 0.85714286 0.25       1.16666667]\n",
      " [3.         1.5        4.         1.        ]\n",
      " [0.8        1.33333333 1.83333333 3.        ]]\n"
     ]
    }
   ],
   "source": [
    "# Create two numpy Arrays of shape (3,4) filled with random integers.\n",
    "array1 = np.random.randint(1,13,size=(3,4))\n",
    "array2 = np.random.randint(1,13,size=(3,4))\n",
    "print(\"Array1 :\")\n",
    "print(array1,end=\"\\n\")\n",
    "print(\"Array2 :\")\n",
    "print(array2)\n",
    "\n",
    "# perform element-wise operations\n",
    "addition = array1 + array2\n",
    "subtraction = array1 - array2\n",
    "multiplication = array1 * array2\n",
    "division = array1/array2\n",
    "\n",
    "print(\"Element wise addition :\")\n",
    "print(addition)\n",
    "print(\"Element wise subtraction:\")\n",
    "print(subtraction)\n",
    "print(\"Element wise multiplication: \")\n",
    "print(multiplication)\n",
    "print(\"Element wise division:\")\n",
    "print(division)"
   ]
  },
  {
   "cell_type": "markdown",
   "id": "e039772b",
   "metadata": {},
   "source": [
    "2. Create a NumPy array of shape (4, 4) with values from 1 to 16. Compute the row-wise and column-wise sum."
   ]
  },
  {
   "cell_type": "code",
   "execution_count": 12,
   "id": "f8be343b",
   "metadata": {},
   "outputs": [
    {
     "name": "stdout",
     "output_type": "stream",
     "text": [
      "Original Array: \n",
      "[[ 1  2  3  4]\n",
      " [ 5  6  7  8]\n",
      " [ 9 10 11 12]\n",
      " [13 14 15 16]]\n",
      "Row wise sum :\n",
      "[10 26 42 58]\n",
      "\n",
      "Column wise sum :\n",
      "[28 32 36 40]\n"
     ]
    }
   ],
   "source": [
    "# Create a Numpy array of shape (4,4) with valued from 1 to 16.\n",
    "array = np.arange(1,17).reshape(4,4)\n",
    "print(\"Original Array: \")\n",
    "print(array)\n",
    "\n",
    "# Compute the row-wise and column-wise sum\n",
    "row_sum = np.sum(array, axis=1)\n",
    "column_sum = np.sum(array, axis=0)\n",
    "\n",
    "print(\"Row wise sum :\")\n",
    "print(row_sum)\n",
    "print()\n",
    "print(\"Column wise sum :\")\n",
    "print(column_sum)"
   ]
  },
  {
   "cell_type": "markdown",
   "id": "85b0810f",
   "metadata": {},
   "source": [
    "### Assignment 4: Statistical Operations\n",
    "\n",
    "1. Create a NumPy array of shape (5, 5) filled with random integers. Compute the mean, median, standard deviation, and variance of the array.\n"
   ]
  },
  {
   "cell_type": "code",
   "execution_count": 13,
   "id": "d8bc4c70",
   "metadata": {},
   "outputs": [
    {
     "name": "stdout",
     "output_type": "stream",
     "text": [
      "Mean : 11.68\n",
      "Median : 12.0\n",
      "Standard Deviation : 8.965355542308403\n",
      "Variance : 80.3776\n"
     ]
    }
   ],
   "source": [
    "#create a numpy array of shape(5,5) filled with random integers.\n",
    "\n",
    "array = np.random.randint(1,26, size=(5,5))\n",
    "\n",
    "# Compute the mean, median, Standard deviation, and variance of array\n",
    "mean = np.mean(array)\n",
    "print(\"Mean :\", mean)\n",
    "\n",
    "median = np.median(array)\n",
    "print(\"Median :\",median)\n",
    "\n",
    "std_dev = np.std(array)\n",
    "print(\"Standard Deviation :\",std_dev)\n",
    "\n",
    "variance = np.var(array)\n",
    "print(\"Variance :\",variance)"
   ]
  },
  {
   "cell_type": "markdown",
   "id": "15fc5210",
   "metadata": {},
   "source": [
    "2. Create a NumPy array of shape (3, 3) with values from 1 to 9. Normalize the array (i.e., scale the values to have a mean of 0 and a standard deviation of 1).\n"
   ]
  },
  {
   "cell_type": "code",
   "execution_count": 14,
   "id": "0f99433a",
   "metadata": {},
   "outputs": [
    {
     "name": "stdout",
     "output_type": "stream",
     "text": [
      "Original array :\n",
      "[[1 2 3]\n",
      " [4 5 6]\n",
      " [7 8 9]]\n",
      "Normalized array:\n",
      "[[-1.54919334 -1.161895   -0.77459667]\n",
      " [-0.38729833  0.          0.38729833]\n",
      " [ 0.77459667  1.161895    1.54919334]]\n"
     ]
    }
   ],
   "source": [
    "# Create a numpy of array of shape (3,3) with values from 1 to 9\n",
    "array = np.arange(1,10).reshape(3,3)\n",
    "print(\"Original array :\")\n",
    "print(array)\n",
    "\n",
    "#Normalize the array\n",
    "mean = np.mean(array)\n",
    "std_dev = np.std(array)\n",
    "\n",
    "normalized_array = (array - mean)/std_dev\n",
    "\n",
    "print(\"Normalized array:\")\n",
    "print(normalized_array)"
   ]
  },
  {
   "cell_type": "markdown",
   "id": "4e6147c3",
   "metadata": {},
   "source": [
    "### Assignment 5: Broadcasting\n",
    "\n",
    "1. Create a NumPy array of shape (3, 3) filled with random integers. Add a 1D array of shape (3,) to each row of the 2D array using broadcasting.\n"
   ]
  },
  {
   "cell_type": "code",
   "execution_count": 15,
   "id": "fb5ac79e",
   "metadata": {},
   "outputs": [
    {
     "name": "stdout",
     "output_type": "stream",
     "text": [
      "Original Array: \n",
      "[[5 9 8]\n",
      " [8 2 3]\n",
      " [2 3 9]]\n",
      "1D array:\n",
      "[3 6 2]\n",
      "Resulting array :\n",
      "[[ 8 15 10]\n",
      " [11  8  5]\n",
      " [ 5  9 11]]\n"
     ]
    }
   ],
   "source": [
    "#creat a numpy array of shape(3,3) filled with random integers\n",
    "\n",
    "array = np.random.randint(1,11,size = (3,3))\n",
    "row_array = np.random.randint(1,11,size=(3,))\n",
    "print(\"Original Array: \")\n",
    "print(array)\n",
    "print(\"1D array:\")\n",
    "print(row_array)\n",
    "\n",
    "#Add a 1D array of shape(3,) to each row of the 2D array using broadcasting\n",
    "result = array + row_array\n",
    "print(\"Resulting array :\")\n",
    "print(result)"
   ]
  },
  {
   "cell_type": "markdown",
   "id": "ff0448a6",
   "metadata": {},
   "source": [
    "2. Create a NumPy array of shape (4, 4) filled with random integers. Subtract a 1D array of shape (4,) from each column of the 2D array using broadcasting."
   ]
  },
  {
   "cell_type": "code",
   "execution_count": 17,
   "id": "74662f5f",
   "metadata": {},
   "outputs": [
    {
     "name": "stdout",
     "output_type": "stream",
     "text": [
      "Original array:\n",
      "[[ 6  5  3  8]\n",
      " [14  6 16  2]\n",
      " [ 7  5 10 16]\n",
      " [ 5 14 13  4]]\n",
      "\n",
      "1D array :\n",
      "[ 9  5  8 11]\n",
      "Resulting Array :\n",
      "[[-3  0 -5 -3]\n",
      " [ 5  1  8 -9]\n",
      " [-2  0  2  5]\n",
      " [-4  9  5 -7]]\n"
     ]
    }
   ],
   "source": [
    "# Create a numpy array of shape (4,4) filled with random integers.\n",
    "array = np.random.randint(1,17 , size=(4,4))\n",
    "row_array = np.random.randint(1,17,size=(4,))\n",
    "print(\"Original array:\")\n",
    "print(array)\n",
    "print()\n",
    "print(\"1D array :\")\n",
    "print(row_array)\n",
    "\n",
    "# Subtract a 1D array of shape (4,) from each column of the 2D array using broadcasting \n",
    "result = array - row_array\n",
    "print(\"Resulting Array :\")\n",
    "print(result)"
   ]
  },
  {
   "cell_type": "markdown",
   "id": "7e21af83",
   "metadata": {},
   "source": [
    "### Assignment 6: Linear Algebra\n",
    "\n",
    "1. Create a NumPy array of shape (3, 3) representing a matrix. Compute its determinant, inverse, and eigenvalues.\n"
   ]
  },
  {
   "cell_type": "code",
   "execution_count": 21,
   "id": "5272e999",
   "metadata": {},
   "outputs": [
    {
     "name": "stdout",
     "output_type": "stream",
     "text": [
      "Original matrix:\n",
      "[[ 5 10  2]\n",
      " [ 5  8  4]\n",
      " [ 5  5  5]]\n",
      "Determinant: 19.99999999999999\n",
      "Inverse:\n",
      "[[ 1.   -2.    1.2 ]\n",
      " [-0.25  0.75 -0.5 ]\n",
      " [-0.75  1.25 -0.5 ]]\n",
      "Eigenvalues: [16.56356197+0.j          0.71821901+0.83164367j  0.71821901-0.83164367j]\n"
     ]
    }
   ],
   "source": [
    "# Create a NumPy array of shape (3, 3) representing a matrix\n",
    "matrix = np.random.randint(1, 11, size=(3, 3))\n",
    "print(\"Original matrix:\")\n",
    "print(matrix)\n",
    "\n",
    "# Compute the determinant\n",
    "determinant = np.linalg.det(matrix)\n",
    "print(\"Determinant:\", determinant)\n",
    "\n",
    "# Compute the inverse\n",
    "inverse = np.linalg.inv(matrix)\n",
    "print(\"Inverse:\")\n",
    "print(inverse)\n",
    "\n",
    "# Compute the eigenvalues\n",
    "eigenvalues = np.linalg.eigvals(matrix)\n",
    "print(\"Eigenvalues:\", eigenvalues)"
   ]
  },
  {
   "cell_type": "markdown",
   "id": "6492ac07",
   "metadata": {},
   "source": [
    "2. Create two NumPy arrays of shape (2, 3) and (3, 2). Perform matrix multiplication on these arrays.\n"
   ]
  },
  {
   "cell_type": "code",
   "execution_count": 22,
   "id": "7323b4ed",
   "metadata": {},
   "outputs": [
    {
     "name": "stdout",
     "output_type": "stream",
     "text": [
      "Array 1:\n",
      "[[ 1 10  5]\n",
      " [ 6  3  9]]\n",
      "Array 2:\n",
      "[[7 4]\n",
      " [2 6]\n",
      " [6 8]]\n",
      "Resulting array: \n",
      "[[ 57 104]\n",
      " [102 114]]\n"
     ]
    }
   ],
   "source": [
    "# Create two NumPy arrays of shape (2,3) and (3,2). \n",
    "array1 = np.random.randint(1,11,size=(2,3))\n",
    "array2 = np.random.randint(1,11,size=(3,2))\n",
    "print(\"Array 1:\")\n",
    "print(array1)\n",
    "print(\"Array 2:\")\n",
    "print(array2)\n",
    "\n",
    "# Perform matrix multiplication on these arrays\n",
    "result = np.dot(array1,array2)\n",
    "print(\"Resulting array: \")\n",
    "print(result) "
   ]
  },
  {
   "cell_type": "markdown",
   "id": "cc1f4893",
   "metadata": {},
   "source": [
    "### Assignment 7: Advanced Array Manipulation\n",
    "\n",
    "1. Create a NumPy array of shape (3, 3) with values from 1 to 9. Reshape the array to shape (1, 9) and then to shape (9, 1).\n"
   ]
  },
  {
   "cell_type": "code",
   "execution_count": 24,
   "id": "3282fc35",
   "metadata": {},
   "outputs": [
    {
     "name": "stdout",
     "output_type": "stream",
     "text": [
      "Original Array\n",
      "[[1 2 3]\n",
      " [4 5 6]\n",
      " [7 8 9]]\n",
      "Reshaped Array of size (1,9)\n",
      "[[1 2 3 4 5 6 7 8 9]]\n",
      "Reshaped Array of size (9,1)\n",
      "[[1]\n",
      " [2]\n",
      " [3]\n",
      " [4]\n",
      " [5]\n",
      " [6]\n",
      " [7]\n",
      " [8]\n",
      " [9]]\n"
     ]
    }
   ],
   "source": [
    "#create a NumPy array of shape (3,3) with values from 1 to 9.\n",
    "array = np.arange(1,10).reshape(3,3)\n",
    "print(\"Original Array\")\n",
    "print(array)\n",
    "\n",
    "# Reshape the array to shape (1,9) and the to shape (9,1)\n",
    "array = array.reshape(1,9)\n",
    "print(\"Reshaped Array of size (1,9)\")\n",
    "print(array)\n",
    "array = array.reshape(9,1)\n",
    "print(\"Reshaped Array of size (9,1)\")\n",
    "print(array)"
   ]
  },
  {
   "cell_type": "markdown",
   "id": "5b63c45c",
   "metadata": {},
   "source": [
    "2. Create a NumPy array of shape (5, 5) filled with random integers. Flatten the array and then reshape it back to (5, 5).\n"
   ]
  },
  {
   "cell_type": "code",
   "execution_count": 25,
   "id": "4279b780",
   "metadata": {},
   "outputs": [
    {
     "name": "stdout",
     "output_type": "stream",
     "text": [
      "Original array:\n",
      "[[ 5  9  8 10  4]\n",
      " [18 22 12 22 16]\n",
      " [13 16 15  2 22]\n",
      " [10  8 13 20 10]\n",
      " [21 17  2 13 16]]\n",
      "\n",
      "Flatten array :\n",
      "[ 5  9  8 10  4 18 22 12 22 16 13 16 15  2 22 10  8 13 20 10 21 17  2 13\n",
      " 16]\n",
      "\n",
      "Reshaped Array :\n",
      "[[ 5  9  8 10  4]\n",
      " [18 22 12 22 16]\n",
      " [13 16 15  2 22]\n",
      " [10  8 13 20 10]\n",
      " [21 17  2 13 16]]\n"
     ]
    }
   ],
   "source": [
    "# Create a Numpy array of shape(5,5)\n",
    "array = np.random.randint(1,26, size=(5,5))\n",
    "print(\"Original array:\")\n",
    "print(array)\n",
    "print()\n",
    "\n",
    "# Flatten the array and then reshape it back to (5,5)\n",
    "flatten_array = array.flatten()\n",
    "print(\"Flatten array :\")\n",
    "print(flatten_array)\n",
    "print()\n",
    "\n",
    "reshaped_array = flatten_array.reshape(5,5)\n",
    "print(\"Reshaped Array :\")\n",
    "print(reshaped_array)"
   ]
  },
  {
   "cell_type": "markdown",
   "id": "e27c180c",
   "metadata": {},
   "source": [
    "### Assignment 8: Fancy Indexing and Boolean Indexing\n",
    "\n",
    "1. Create a NumPy array of shape (5, 5) filled with random integers. Use fancy indexing to extract the elements at the corners of the array.\n"
   ]
  },
  {
   "cell_type": "code",
   "execution_count": 26,
   "id": "ccce24c7",
   "metadata": {},
   "outputs": [
    {
     "name": "stdout",
     "output_type": "stream",
     "text": [
      "Original Array :\n",
      "[[25 22  2  1 14]\n",
      " [ 4  3 11 12  7]\n",
      " [19 13  5  9  8]\n",
      " [24 10 24  7 10]\n",
      " [ 5 14  1 22 25]]\n",
      "Corner Elements: \n",
      "[25 14  5 25]\n"
     ]
    }
   ],
   "source": [
    "# Create a NumPy array of shape(5,5) filled with random integer \n",
    "array = np.random.randint(1,26, size=(5,5))\n",
    "print(\"Original Array :\")\n",
    "print(array)\n",
    "\n",
    "# Use fancy indexing to extract the elements at the corners of the array \n",
    "corners = array[[0,0,-1,-1],[0,-1,0,-1]]\n",
    "print(\"Corner Elements: \")\n",
    "print(corners)\n"
   ]
  },
  {
   "cell_type": "markdown",
   "id": "8b0f7d92",
   "metadata": {},
   "source": [
    "2. Create a NumPy array of shape (4, 4) filled with random integers. Use boolean indexing to set all elements greater than 10 to 10."
   ]
  },
  {
   "cell_type": "code",
   "execution_count": 28,
   "id": "e37c5490",
   "metadata": {},
   "outputs": [
    {
     "name": "stdout",
     "output_type": "stream",
     "text": [
      "Original Array: \n",
      "[[ 9 10 12  7]\n",
      " [14 14  4 11]\n",
      " [ 2 13  2  7]\n",
      " [ 7  1  2  1]]\n",
      "Modified Array: \n",
      "[[ 9 10 10  7]\n",
      " [10 10  4 10]\n",
      " [ 2 10  2  7]\n",
      " [ 7  1  2  1]]\n"
     ]
    }
   ],
   "source": [
    "# Create a NumPy array of shape (4,4) filled with random integers\n",
    "array = np.random.randint(1,17,size=(4,4))\n",
    "print(\"Original Array: \")\n",
    "print(array)\n",
    "\n",
    "# Use boolean indexing to set all elements greater than 10 to 10\n",
    "array[array > 10] = 10\n",
    "print(\"Modified Array: \")\n",
    "print(array)\n"
   ]
  },
  {
   "cell_type": "markdown",
   "id": "8a8bcd0a",
   "metadata": {},
   "source": [
    "### Assignment 9: Structured Arrays\n",
    "\n",
    "1. Create a structured array with fields 'name' (string), 'age' (integer), and 'weight' (float). Add some data and sort the array by age.\n"
   ]
  },
  {
   "cell_type": "code",
   "execution_count": 31,
   "id": "661deae0",
   "metadata": {},
   "outputs": [
    {
     "name": "stdout",
     "output_type": "stream",
     "text": [
      "Original Array:\n",
      "[[ 9 10 10  7]\n",
      " [10 10  4 10]\n",
      " [ 2 10  2  7]\n",
      " [ 7  1  2  1]]\n",
      "Sorted array by age: \n",
      "[('Bob', 30, 85.5) ('Charlie', 32, 50. ) ('Alice', 35, 55.5)]\n"
     ]
    }
   ],
   "source": [
    "# Create a structured array with fields 'name' (string), 'age'(integer), and 'weight'(float)\n",
    "data_type = [('name','U10'),('age','i4'),('weight','f4')]\n",
    "data = np.array([('Alice',35,55.5),('Bob',30,85.5),('Charlie',32,50)],dtype=data_type)\n",
    "print(\"Original Array:\")\n",
    "print(array)\n",
    "\n",
    "#Sort the array by age\n",
    "sorted_data = np.sort(data, order='age')\n",
    "print(\"Sorted array by age: \")\n",
    "print(sorted_data)"
   ]
  },
  {
   "cell_type": "markdown",
   "id": "378e2b1c",
   "metadata": {},
   "source": [
    "2. Create a structured array with fields 'x' and 'y' (both integers). Add some data and compute the Euclidean distance between each pair of points."
   ]
  },
  {
   "cell_type": "code",
   "execution_count": 32,
   "id": "6d99484a",
   "metadata": {},
   "outputs": [
    {
     "name": "stdout",
     "output_type": "stream",
     "text": [
      "Original Array:\n",
      "[(1, 2) (3, 4) (5, 6)]\n",
      "Euclidean distances:\n",
      "[[0.         2.82842712 5.65685425]\n",
      " [2.82842712 0.         2.82842712]\n",
      " [5.65685425 2.82842712 0.        ]]\n"
     ]
    }
   ],
   "source": [
    "# Create a structured array with fields 'x' and 'y' (both integers)\n",
    "data_type =[('x','i4'),('y','i4')]\n",
    "data = np.array([(1,2),(3,4),(5,6)], dtype=data_type)\n",
    "print(\"Original Array:\")\n",
    "print(data)\n",
    "\n",
    "# Compute the Euclidean distance between each pair of points.\n",
    "distances = np.sqrt((data['x'][:, np.newaxis] - data['x'])**2 + (data['y'][:, np.newaxis] - data['y'])**2)\n",
    "print(\"Euclidean distances:\")\n",
    "print(distances)"
   ]
  },
  {
   "cell_type": "markdown",
   "id": "ead12b34",
   "metadata": {},
   "source": [
    "### Assignment 10: Masked Arrays\n",
    "\n",
    "1. Create a masked array of shape (4, 4) with random integers and mask the elements greater than 10. Compute the sum of the unmasked elements.\n"
   ]
  },
  {
   "cell_type": "code",
   "execution_count": 35,
   "id": "7324984f",
   "metadata": {},
   "outputs": [
    {
     "name": "stdout",
     "output_type": "stream",
     "text": [
      "Original array:\n",
      "[[ 5 10  1 15]\n",
      " [ 4 11 14  4]\n",
      " [ 6 13  9 10]\n",
      " [16  5  3  7]]\n",
      "\n",
      "Masked Array \n",
      "[[5 10 1 --]\n",
      " [4 -- -- 4]\n",
      " [6 -- 9 10]\n",
      " [-- 5 3 7]]\n",
      "Unmasked element sum\n",
      "64\n"
     ]
    }
   ],
   "source": [
    "import numpy.ma as ma\n",
    "\n",
    "# Create a masked array of shape (4,4) with random integers and mask the elements greater than 10\n",
    "array = np.random.randint(1,17,size=(4,4))\n",
    "masked_array = ma.masked_greater(array,10)\n",
    "print(\"Original array:\")\n",
    "print(array)\n",
    "print()\n",
    "print(\"Masked Array \")\n",
    "print(masked_array)\n",
    "\n",
    "# Compute the sum of unmasked elements\n",
    "ele_sum = masked_array.sum()\n",
    "print(\"Unmasked element sum\")\n",
    "print(ele_sum)"
   ]
  },
  {
   "cell_type": "markdown",
   "id": "6d15baa3",
   "metadata": {},
   "source": [
    "2. Create a masked array of shape (3, 3) with random integers and mask the diagonal elements. Replace the masked elements with the mean of the unmasked elements."
   ]
  },
  {
   "cell_type": "code",
   "execution_count": 36,
   "id": "a5c5b462",
   "metadata": {},
   "outputs": [
    {
     "name": "stdout",
     "output_type": "stream",
     "text": [
      "Original Array:\n",
      "[[6 1 5]\n",
      " [5 4 7]\n",
      " [4 7 1]]\n",
      "Masked Array: \n",
      "[[-- 1 5]\n",
      " [5 -- 7]\n",
      " [4 7 --]]\n",
      "Modified Masked array :\n",
      "[[4 1 5]\n",
      " [5 4 7]\n",
      " [4 7 4]]\n"
     ]
    }
   ],
   "source": [
    "# Create a masked array of shape (3,3) with random integers and mask the diagonal elements.\n",
    "array = np.random.randint(1,10,size=(3,3))\n",
    "masked_array = ma.masked_array(array, mask=np.eye(3, dtype=bool))\n",
    "print(\"Original Array:\")\n",
    "print(array)\n",
    "print(\"Masked Array: \")\n",
    "print(masked_array)\n",
    "\n",
    "# Replace the masked elements with the mean of the unmasked elements\n",
    "unmasked_mean = masked_array.mean()\n",
    "masked_array = masked_array.filled(unmasked_mean)\n",
    "print(\"Modified Masked array :\")\n",
    "print(masked_array)\n"
   ]
  },
  {
   "cell_type": "code",
   "execution_count": null,
   "id": "e6d04f06",
   "metadata": {},
   "outputs": [],
   "source": []
  }
 ],
 "metadata": {
  "kernelspec": {
   "display_name": "Python 3",
   "language": "python",
   "name": "python3"
  },
  "language_info": {
   "codemirror_mode": {
    "name": "ipython",
    "version": 3
   },
   "file_extension": ".py",
   "mimetype": "text/x-python",
   "name": "python",
   "nbconvert_exporter": "python",
   "pygments_lexer": "ipython3",
   "version": "3.12.0"
  }
 },
 "nbformat": 4,
 "nbformat_minor": 5
}
